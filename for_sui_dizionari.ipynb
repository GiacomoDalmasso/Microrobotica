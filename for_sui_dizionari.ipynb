{
 "cells": [
  {
   "cell_type": "code",
   "execution_count": 1,
   "id": "e945e980",
   "metadata": {},
   "outputs": [],
   "source": [
    "d = {\"a\": [\"albero\", \"albergo\"], \"b\": [\"bello\"], \"c\": [\"ciao\", \"cellulare\"]}"
   ]
  },
  {
   "cell_type": "code",
   "execution_count": 2,
   "id": "6008b8d4",
   "metadata": {},
   "outputs": [
    {
     "data": {
      "text/plain": [
       "{'a': ['albero', 'albergo'], 'b': ['bello'], 'c': ['ciao', 'cellulare']}"
      ]
     },
     "execution_count": 2,
     "metadata": {},
     "output_type": "execute_result"
    }
   ],
   "source": [
    "d"
   ]
  },
  {
   "cell_type": "markdown",
   "id": "3d9fd1ad",
   "metadata": {},
   "source": [
    "### ciclo for sulle chiavi"
   ]
  },
  {
   "cell_type": "code",
   "execution_count": 5,
   "id": "e5c21c3b",
   "metadata": {},
   "outputs": [
    {
     "name": "stdout",
     "output_type": "stream",
     "text": [
      "La chiave è: a e il valore è ['albero', 'albergo']\n",
      "La chiave è: b e il valore è ['bello']\n",
      "La chiave è: c e il valore è ['ciao', 'cellulare']\n"
     ]
    }
   ],
   "source": [
    "for chiave in d:\n",
    "    print(f\"La chiave è: {chiave} e il valore è {d[chiave]}\")"
   ]
  },
  {
   "cell_type": "markdown",
   "id": "c93c7769",
   "metadata": {},
   "source": [
    "### ciclo for su chiavi e valori"
   ]
  },
  {
   "cell_type": "code",
   "execution_count": 6,
   "id": "941ef18d",
   "metadata": {},
   "outputs": [
    {
     "name": "stdout",
     "output_type": "stream",
     "text": [
      "La chiave è: a e il valore è ['albero', 'albergo']\n",
      "La chiave è: b e il valore è ['bello']\n",
      "La chiave è: c e il valore è ['ciao', 'cellulare']\n"
     ]
    }
   ],
   "source": [
    "for chiave, valore in d.items(): \n",
    "    print(f\"La chiave è: {chiave} e il valore è {valore}\")"
   ]
  },
  {
   "cell_type": "markdown",
   "id": "cefbd111",
   "metadata": {},
   "source": [
    "#### Esercizio: la prima parola della lista per ciascuna iniziale"
   ]
  },
  {
   "cell_type": "code",
   "execution_count": 7,
   "id": "6521252f",
   "metadata": {},
   "outputs": [
    {
     "name": "stdout",
     "output_type": "stream",
     "text": [
      "La prima parola della lista con iniziale a è albero\n",
      "La prima parola della lista con iniziale b è bello\n",
      "La prima parola della lista con iniziale c è ciao\n"
     ]
    }
   ],
   "source": [
    "for chiave in d:\n",
    "    print(f\"La prima parola della lista con iniziale {chiave} è {d[chiave][0]}\")"
   ]
  },
  {
   "cell_type": "markdown",
   "id": "7bf24d55",
   "metadata": {},
   "source": [
    "### Lettura di file"
   ]
  },
  {
   "cell_type": "code",
   "execution_count": 3,
   "id": "9154f8b7",
   "metadata": {},
   "outputs": [],
   "source": [
    "file = open(\"./file_di_testo\", \"r\")\n",
    "righe = file.readlines()\n",
    "file.close()"
   ]
  },
  {
   "cell_type": "code",
   "execution_count": 9,
   "id": "3b2c0687",
   "metadata": {},
   "outputs": [
    {
     "data": {
      "text/plain": [
       "['riga 1\\n', 'questa è la seconda riga \\n', 'terza riga']"
      ]
     },
     "execution_count": 9,
     "metadata": {},
     "output_type": "execute_result"
    }
   ],
   "source": [
    "riga"
   ]
  },
  {
   "cell_type": "code",
   "execution_count": 5,
   "id": "a2fffaf5",
   "metadata": {},
   "outputs": [
    {
     "name": "stdout",
     "output_type": "stream",
     "text": [
      "riga 1\n",
      "questa è la seconda riga \n",
      "terza rig\n"
     ]
    }
   ],
   "source": [
    "for riga in righe:\n",
    "    print(riga[:-1])"
   ]
  },
  {
   "cell_type": "code",
   "execution_count": null,
   "id": "d510d829",
   "metadata": {},
   "outputs": [],
   "source": []
  }
 ],
 "metadata": {
  "kernelspec": {
   "display_name": "Python 3 (ipykernel)",
   "language": "python",
   "name": "python3"
  },
  "language_info": {
   "codemirror_mode": {
    "name": "ipython",
    "version": 3
   },
   "file_extension": ".py",
   "mimetype": "text/x-python",
   "name": "python",
   "nbconvert_exporter": "python",
   "pygments_lexer": "ipython3",
   "version": "3.11.4"
  }
 },
 "nbformat": 4,
 "nbformat_minor": 5
}
