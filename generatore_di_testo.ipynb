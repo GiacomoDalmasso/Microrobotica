{
 "cells": [
  {
   "cell_type": "code",
   "execution_count": 1,
   "id": "b8bdd68b",
   "metadata": {},
   "outputs": [],
   "source": [
    "import random"
   ]
  },
  {
   "cell_type": "code",
   "execution_count": 2,
   "id": "61904be0",
   "metadata": {},
   "outputs": [],
   "source": [
    "class TextGenerator():\n",
    "    \"\"\"\n",
    "    La classe TextGenerator trasforma un file di testo in un testo generato casualmente\n",
    "    INPUT:\n",
    "    - path: str, path del file di testo\n",
    "    - spChar: list of str, lista dei caratteri da eliminare    \n",
    "    \"\"\"\n",
    "    def __init__(self, path, spChar):\n",
    "        self.path = path\n",
    "        self.spChar = spChar\n",
    "        self.parole = []\n",
    "        self.dizionario = {}\n",
    "    \n",
    "    def fileToListaParole(self):\n",
    "        \"\"\"\n",
    "        Il metodo fileToListaParole trasforma un file in una lista di parole \n",
    "        \"\"\"\n",
    "        file = open(path, \"r\", encoding=\"utf-8\")\n",
    "        righe = file.readlines()\n",
    "        righe = [riga[:-1] for riga in righe if len(riga)>1]\n",
    "        for riga in righe:\n",
    "            for char in spChar:\n",
    "                riga = riga.replace(char, \"\")\n",
    "                riga = riga.lower()\n",
    "            self.parole += riga.split()        \n",
    "    \n",
    "    def listaParoleToDizionario(self):\n",
    "        \"\"\"\n",
    "        Il metodo listaParoleToDizionario trasforma un lista di parole in un dizionario\n",
    "        che ha come chiavi ogni parola presente nella lista e come valore una lista di \n",
    "        tutte le parole che la seguono\n",
    "        \"\"\"\n",
    "        for i in range(len(self.parole)-1):\n",
    "            parolaAttuale = self.parole[i]\n",
    "            successiva= self.parole[i + 1]\n",
    "            if parolaAttuale in self.dizionario:\n",
    "                self.dizionario[parolaAttuale].append(successiva)\n",
    "            else:\n",
    "                self.dizionario[parolaAttuale] = [successiva]        \n",
    "    \n",
    "    def generaTesto(self, iniziale, lung):\n",
    "        \"\"\"\n",
    "        Il metodo generatesto genera un testo in modo casuale basandosi su un dizionario avente\n",
    "        come chiavi una parola e come valore una lista delle sue successive\n",
    "        INPUT:\n",
    "        - iniziale: str, prima parola del testo da generare\n",
    "        - lung: int, lunghezza in parole del testo\n",
    "        OUTPUT:\n",
    "        - testo: str, testo generato\n",
    "        \"\"\"\n",
    "        testo = iniziale\n",
    "        prec = iniziale \n",
    "        for i in range(lung):\n",
    "            if iniziale in self.dizionario:\n",
    "                parola = random.choice(self.dizionario[prec])\n",
    "                testo += (\" \" + parola)\n",
    "                prec = parola\n",
    "            else:\n",
    "                print(\"Parola iniziale non presente nel diozionario\")\n",
    "        return testo"
   ]
  },
  {
   "cell_type": "code",
   "execution_count": 3,
   "id": "5afb3e8a",
   "metadata": {},
   "outputs": [
    {
     "name": "stdout",
     "output_type": "stream",
     "text": [
      "il macchinista il copione il padre eh ma capirà per confortarla il padre che gli autori nascondono di queste tavolea opere immortali gli dia al trovarobe il capocomico ma capirà che ella sfuggirà e lungo disperato abbattendo il padre ma vidi\n"
     ]
    }
   ],
   "source": [
    "spChar = ['.', ',', \"'\", '!', \"?\", '«', '»', '(', ')', \"-\", \":\", \"*\", \"{}\", \"^\", \"/\", \"\\n\"]\n",
    "path = \"sei_personaggi_in_cerca_dautore_Luigi_Pirandello.txt\"\n",
    "generator = TextGenerator(path, spChar)\n",
    "generator.fileToListaParole()\n",
    "generator.listaParoleToDizionario()\n",
    "print(generator.generaTesto(\"il\", 40))"
   ]
  },
  {
   "cell_type": "code",
   "execution_count": null,
   "id": "aabb237e",
   "metadata": {},
   "outputs": [],
   "source": []
  }
 ],
 "metadata": {
  "kernelspec": {
   "display_name": "Python 3 (ipykernel)",
   "language": "python",
   "name": "python3"
  },
  "language_info": {
   "codemirror_mode": {
    "name": "ipython",
    "version": 3
   },
   "file_extension": ".py",
   "mimetype": "text/x-python",
   "name": "python",
   "nbconvert_exporter": "python",
   "pygments_lexer": "ipython3",
   "version": "3.11.4"
  }
 },
 "nbformat": 4,
 "nbformat_minor": 5
}
