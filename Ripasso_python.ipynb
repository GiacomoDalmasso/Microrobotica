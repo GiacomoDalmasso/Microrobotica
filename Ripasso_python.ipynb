{
 "cells": [
  {
   "cell_type": "markdown",
   "id": "d9f8ed85",
   "metadata": {},
   "source": [
    "# Ripasso PYTHON\n",
    "\n"
   ]
  },
  {
   "cell_type": "code",
   "execution_count": 6,
   "id": "ea5abd06",
   "metadata": {},
   "outputs": [],
   "source": [
    "# importazione delle librerie\n",
    "import matplotlib.pyplot as plt"
   ]
  },
  {
   "cell_type": "markdown",
   "id": "2bafd379",
   "metadata": {},
   "source": [
    "### LIST COMPREHENSION"
   ]
  },
  {
   "cell_type": "code",
   "execution_count": 20,
   "id": "69c9c067",
   "metadata": {},
   "outputs": [
    {
     "data": {
      "text/plain": [
       "[1, 2, 3, 4, 5, 6, 7, 8, 9]"
      ]
     },
     "execution_count": 20,
     "metadata": {},
     "output_type": "execute_result"
    }
   ],
   "source": [
    "quadrati_perfetti = [i**1 for i in range(1,10)]\n",
    "quadrati_perfetti"
   ]
  },
  {
   "cell_type": "code",
   "execution_count": 24,
   "id": "f5337565",
   "metadata": {},
   "outputs": [
    {
     "data": {
      "text/plain": [
       "[4, 16, 36, 64]"
      ]
     },
     "execution_count": 24,
     "metadata": {},
     "output_type": "execute_result"
    }
   ],
   "source": [
    "quadrati_perfetti_pari = [i**2 for i in range(1,10) if i**2%2==0]\n",
    "quadrati_perfetti_pari"
   ]
  },
  {
   "cell_type": "code",
   "execution_count": 25,
   "id": "d48f7e4b",
   "metadata": {},
   "outputs": [
    {
     "data": {
      "text/plain": [
       "['scuola', 'classe', 'computer', 'aula', 'cellulare']"
      ]
     },
     "execution_count": 25,
     "metadata": {},
     "output_type": "execute_result"
    }
   ],
   "source": [
    "parole =  [\"scuola\", \"classe\", \"computer\", \"aula\", \"cellulare\"]\n",
    "parole"
   ]
  },
  {
   "cell_type": "code",
   "execution_count": 27,
   "id": "d28c5a58",
   "metadata": {},
   "outputs": [
    {
     "data": {
      "text/plain": [
       "['classe', 'computer', 'cellulare']"
      ]
     },
     "execution_count": 27,
     "metadata": {},
     "output_type": "execute_result"
    }
   ],
   "source": [
    "parole_c = [parola for parola in parole if parola[0]=='c' ]\n",
    "parole_c"
   ]
  },
  {
   "cell_type": "code",
   "execution_count": 28,
   "id": "4a8c5f1d",
   "metadata": {},
   "outputs": [
    {
     "data": {
      "text/plain": [
       "'cellulare'"
      ]
     },
     "execution_count": 28,
     "metadata": {},
     "output_type": "execute_result"
    }
   ],
   "source": [
    "parole_c[-1]"
   ]
  },
  {
   "cell_type": "code",
   "execution_count": 33,
   "id": "cadfabf7",
   "metadata": {},
   "outputs": [
    {
     "data": {
      "text/plain": [
       "'ITIS Delpozz'"
      ]
     },
     "execution_count": 33,
     "metadata": {},
     "output_type": "execute_result"
    }
   ],
   "source": [
    "# SLICING\n",
    "stringa = \"ITIS Delpozzo\"\n",
    "stringa[:-1]"
   ]
  },
  {
   "cell_type": "markdown",
   "id": "2fb1beda",
   "metadata": {},
   "source": [
    "### COLLEZIONI\n",
    "\n",
    "- Liste: [] indicizzate con gli interi 0...n, mutabili\n",
    "- Tuple: ()  indicizzate con gli interi 0...n, immutabili\n",
    "- Dizionari: {} indicizzati con le chiavi, mutabili\n"
   ]
  },
  {
   "cell_type": "code",
   "execution_count": 35,
   "id": "262f9f4e",
   "metadata": {},
   "outputs": [],
   "source": [
    "lista = [1,2,3]\n",
    "stringa = \"123\" #le stringhe sono immutabili "
   ]
  },
  {
   "cell_type": "code",
   "execution_count": 36,
   "id": "81d6f9a3",
   "metadata": {},
   "outputs": [
    {
     "data": {
      "text/plain": [
       "[9, 2, 3]"
      ]
     },
     "execution_count": 36,
     "metadata": {},
     "output_type": "execute_result"
    }
   ],
   "source": [
    "lista[0] = 9\n",
    "lista"
   ]
  },
  {
   "cell_type": "code",
   "execution_count": 37,
   "id": "7054fcaa",
   "metadata": {},
   "outputs": [
    {
     "ename": "TypeError",
     "evalue": "'str' object does not support item assignment",
     "output_type": "error",
     "traceback": [
      "\u001b[0;31m---------------------------------------------------------------------------\u001b[0m",
      "\u001b[0;31mTypeError\u001b[0m                                 Traceback (most recent call last)",
      "Cell \u001b[0;32mIn[37], line 1\u001b[0m\n\u001b[0;32m----> 1\u001b[0m stringa[\u001b[38;5;241m0\u001b[39m] \u001b[38;5;241m=\u001b[39m \u001b[38;5;241m9\u001b[39m\n",
      "\u001b[0;31mTypeError\u001b[0m: 'str' object does not support item assignment"
     ]
    }
   ],
   "source": [
    "stringa[0] = 9"
   ]
  },
  {
   "cell_type": "code",
   "execution_count": 40,
   "id": "6102600b",
   "metadata": {},
   "outputs": [
    {
     "data": {
      "text/plain": [
       "'923'"
      ]
     },
     "execution_count": 40,
     "metadata": {},
     "output_type": "execute_result"
    }
   ],
   "source": [
    "stringa = \"9\" + stringa[1:]\n",
    "stringa"
   ]
  },
  {
   "cell_type": "code",
   "execution_count": 43,
   "id": "8d0998a4",
   "metadata": {},
   "outputs": [],
   "source": [
    "def somma_prodotto(a,b): \n",
    "    return a+b, a*b\n",
    "risultato = somma_prodotto(4,5)"
   ]
  },
  {
   "cell_type": "code",
   "execution_count": 45,
   "id": "1db61624",
   "metadata": {},
   "outputs": [
    {
     "data": {
      "text/plain": [
       "9"
      ]
     },
     "execution_count": 45,
     "metadata": {},
     "output_type": "execute_result"
    }
   ],
   "source": [
    "risultato[0]"
   ]
  },
  {
   "cell_type": "code",
   "execution_count": 48,
   "id": "c0d3d3d0",
   "metadata": {},
   "outputs": [
    {
     "name": "stdout",
     "output_type": "stream",
     "text": [
      "9 20\n"
     ]
    }
   ],
   "source": [
    "#spacchettare la tupla\n",
    "somma, prodotto = risultato\n",
    "print(somma, prodotto)"
   ]
  },
  {
   "cell_type": "code",
   "execution_count": 50,
   "id": "fa4c55bf",
   "metadata": {},
   "outputs": [
    {
     "name": "stdout",
     "output_type": "stream",
     "text": [
      "2 1\n"
     ]
    }
   ],
   "source": [
    "#algoritmo di scambio \n",
    "a, b = 1, 2\n",
    "a, b = b, a\n",
    "print(a, b)"
   ]
  },
  {
   "cell_type": "code",
   "execution_count": 51,
   "id": "6a30f45c",
   "metadata": {},
   "outputs": [],
   "source": [
    "# DIZIONARI\n",
    "dizionario = {\"a\":373, \"b\":892, \"c\":172}"
   ]
  },
  {
   "cell_type": "code",
   "execution_count": 52,
   "id": "5c08ae9b",
   "metadata": {},
   "outputs": [
    {
     "data": {
      "text/plain": [
       "892"
      ]
     },
     "execution_count": 52,
     "metadata": {},
     "output_type": "execute_result"
    }
   ],
   "source": [
    "dizionario[\"b\"] "
   ]
  },
  {
   "cell_type": "code",
   "execution_count": 53,
   "id": "84b6ee6d",
   "metadata": {},
   "outputs": [],
   "source": [
    "dizionario[\"d\"] = 245"
   ]
  },
  {
   "cell_type": "code",
   "execution_count": 54,
   "id": "f2e7ef6f",
   "metadata": {},
   "outputs": [
    {
     "data": {
      "text/plain": [
       "{'a': 373, 'b': 892, 'c': 172, 'd': 245}"
      ]
     },
     "execution_count": 54,
     "metadata": {},
     "output_type": "execute_result"
    }
   ],
   "source": [
    "dizionario"
   ]
  },
  {
   "cell_type": "markdown",
   "id": "36064cf6",
   "metadata": {},
   "source": [
    "### Cicli for sulle liste"
   ]
  },
  {
   "cell_type": "code",
   "execution_count": 55,
   "id": "326063c9",
   "metadata": {},
   "outputs": [],
   "source": [
    "lista = [12, 34, \"ciao\", somma_prodotto]"
   ]
  },
  {
   "cell_type": "code",
   "execution_count": 57,
   "id": "6ca7c764",
   "metadata": {},
   "outputs": [
    {
     "name": "stdout",
     "output_type": "stream",
     "text": [
      "12\n",
      "34\n",
      "ciao\n",
      "<function somma_prodotto at 0x7f286353e3e0>\n"
     ]
    }
   ],
   "source": [
    "#C-Style\n",
    "for i in range(0, len(lista)):\n",
    "    print(lista[i])"
   ]
  },
  {
   "cell_type": "code",
   "execution_count": 58,
   "id": "5e9d6eb6",
   "metadata": {},
   "outputs": [
    {
     "name": "stdout",
     "output_type": "stream",
     "text": [
      "12\n",
      "34\n",
      "ciao\n",
      "<function somma_prodotto at 0x7f286353e3e0>\n"
     ]
    }
   ],
   "source": [
    "#Python-Style\n",
    "for elemento in lista:\n",
    "    print(elemento)"
   ]
  },
  {
   "cell_type": "code",
   "execution_count": 60,
   "id": "39416b73",
   "metadata": {},
   "outputs": [
    {
     "name": "stdout",
     "output_type": "stream",
     "text": [
      "In posizione 0 troviamo l'elemento 12\n",
      "In posizione 1 troviamo l'elemento 34\n",
      "In posizione 2 troviamo l'elemento ciao\n",
      "In posizione 3 troviamo l'elemento <function somma_prodotto at 0x7f286353e3e0>\n"
     ]
    }
   ],
   "source": [
    "#Python-Style con enumerate\n",
    "for indice, elemento in enumerate(lista):\n",
    "    print(f\"In posizione {indice} troviamo l'elemento {elemento}\")"
   ]
  },
  {
   "cell_type": "code",
   "execution_count": 65,
   "id": "cdb86d99",
   "metadata": {},
   "outputs": [
    {
     "name": "stdout",
     "output_type": "stream",
     "text": [
      "12 - 100\n",
      "34 - 101\n",
      "ciao - 102\n",
      "<function somma_prodotto at 0x7f286353e3e0> - 103\n"
     ]
    }
   ],
   "source": [
    "#C-Style su entrambe liste\n",
    "lista2 = [100, 101, 102, 103]\n",
    "for i in range(0, len(lista)):\n",
    "    print(f\"{lista[i]} - {lista2[i]}\")"
   ]
  },
  {
   "cell_type": "code",
   "execution_count": 66,
   "id": "193c9244",
   "metadata": {},
   "outputs": [
    {
     "name": "stdout",
     "output_type": "stream",
     "text": [
      "12 - 100\n",
      "34 - 101\n",
      "ciao - 102\n",
      "<function somma_prodotto at 0x7f286353e3e0> - 103\n"
     ]
    }
   ],
   "source": [
    "#Python-Style su entrambe liste\n",
    "for elemento, elemento2 in zip(lista, lista2):\n",
    "    print(f\"{elemento} - {elemento2}\")"
   ]
  },
  {
   "cell_type": "code",
   "execution_count": null,
   "id": "99bea4e5",
   "metadata": {},
   "outputs": [],
   "source": []
  }
 ],
 "metadata": {
  "kernelspec": {
   "display_name": "Python 3 (ipykernel)",
   "language": "python",
   "name": "python3"
  },
  "language_info": {
   "codemirror_mode": {
    "name": "ipython",
    "version": 3
   },
   "file_extension": ".py",
   "mimetype": "text/x-python",
   "name": "python",
   "nbconvert_exporter": "python",
   "pygments_lexer": "ipython3",
   "version": "3.11.4"
  }
 },
 "nbformat": 4,
 "nbformat_minor": 5
}
