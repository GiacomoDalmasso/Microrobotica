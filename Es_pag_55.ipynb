{
 "cells": [
  {
   "cell_type": "markdown",
   "id": "e012a568",
   "metadata": {},
   "source": [
    "Giacomo Dalmasso\n",
    "# Esercizi pag.55"
   ]
  },
  {
   "cell_type": "markdown",
   "id": "dcd15bd3",
   "metadata": {},
   "source": [
    "### ES1"
   ]
  },
  {
   "cell_type": "code",
   "execution_count": 1,
   "id": "43668dff",
   "metadata": {},
   "outputs": [
    {
     "name": "stdout",
     "output_type": "stream",
     "text": [
      "v1: 5, <class 'int'>. \n",
      "v2: Hello, <class 'str'>. \n",
      "v3: 99.9, <class 'float'>. \n",
      "v4: False, <class 'bool'>\n"
     ]
    }
   ],
   "source": [
    "v1 = 5\n",
    "v2 = \"Hello\"\n",
    "v3 = 99.9\n",
    "v4 = False\n",
    "print(f\"v1: {v1}, {type(v1)}. \\nv2: {v2}, {type(v2)}. \\nv3: {v3}, {type(v3)}. \\nv4: {v4}, {type(v4)}\")"
   ]
  },
  {
   "cell_type": "markdown",
   "id": "ee5b67c7",
   "metadata": {},
   "source": [
    "### ES2"
   ]
  },
  {
   "cell_type": "code",
   "execution_count": 2,
   "id": "9e2b8a24",
   "metadata": {},
   "outputs": [
    {
     "name": "stdout",
     "output_type": "stream",
     "text": [
      "v1: 3, <class 'int'>. \n",
      "v2: Ciao, <class 'str'>. \n",
      "v3: 23.4, <class 'float'>. \n",
      "v4: True, <class 'bool'>\n"
     ]
    }
   ],
   "source": [
    "v1, v2, v3, v4 = 3, \"Ciao\", 23.4, True\n",
    "print(f\"v1: {v1}, {type(v1)}. \\nv2: {v2}, {type(v2)}. \\nv3: {v3}, {type(v3)}. \\nv4: {v4}, {type(v4)}\")"
   ]
  },
  {
   "cell_type": "markdown",
   "id": "f08d21f2",
   "metadata": {},
   "source": [
    "### ES3"
   ]
  },
  {
   "cell_type": "code",
   "execution_count": 3,
   "id": "9b32eabc",
   "metadata": {},
   "outputs": [
    {
     "name": "stdout",
     "output_type": "stream",
     "text": [
      "v1: 3\n",
      "v2: 7\n"
     ]
    }
   ],
   "source": [
    "v1, v2 = 3, 7\n",
    "print(f\"v1: {v1}\\nv2: {v2}\")"
   ]
  },
  {
   "cell_type": "code",
   "execution_count": 4,
   "id": "a92734f9",
   "metadata": {},
   "outputs": [
    {
     "name": "stdout",
     "output_type": "stream",
     "text": [
      "v1: 7\n",
      "v2: 3\n"
     ]
    }
   ],
   "source": [
    "v1, v2 = v2, v1\n",
    "print(f\"v1: {v1}\\nv2: {v2}\")"
   ]
  },
  {
   "cell_type": "markdown",
   "id": "c78c7ff2",
   "metadata": {},
   "source": [
    "### ES4"
   ]
  },
  {
   "cell_type": "code",
   "execution_count": 5,
   "id": "9aa05362",
   "metadata": {},
   "outputs": [
    {
     "name": "stdout",
     "output_type": "stream",
     "text": [
      "G...o\n"
     ]
    }
   ],
   "source": [
    "parola = \"Giacomo\"\n",
    "print(f\"{parola[:1]}...{parola[-1:]}\")"
   ]
  },
  {
   "cell_type": "markdown",
   "id": "46cc51a5",
   "metadata": {},
   "source": [
    "### ES5"
   ]
  },
  {
   "cell_type": "code",
   "execution_count": 6,
   "id": "14a60171",
   "metadata": {},
   "outputs": [
    {
     "name": "stdout",
     "output_type": "stream",
     "text": [
      "utomobil\n"
     ]
    }
   ],
   "source": [
    "stringa = \"Automobile\"\n",
    "print(stringa[1:-1])"
   ]
  },
  {
   "cell_type": "markdown",
   "id": "791ba6ac",
   "metadata": {},
   "source": [
    "### ES6"
   ]
  },
  {
   "cell_type": "code",
   "execution_count": 7,
   "id": "79028af9",
   "metadata": {},
   "outputs": [
    {
     "name": "stdout",
     "output_type": "stream",
     "text": [
      "optr"
     ]
    }
   ],
   "source": [
    "stringa = \"Computer\"\n",
    "for i in range(len(stringa)):\n",
    "    if i%2 != 0:\n",
    "        carattere = stringa[i]\n",
    "        print(carattere, end='')\n",
    "    "
   ]
  },
  {
   "cell_type": "markdown",
   "id": "3853a85e",
   "metadata": {},
   "source": [
    "### ES7"
   ]
  },
  {
   "cell_type": "code",
   "execution_count": 8,
   "id": "9ce11443",
   "metadata": {},
   "outputs": [
    {
     "name": "stdout",
     "output_type": "stream",
     "text": [
      "enonredauQ\n"
     ]
    }
   ],
   "source": [
    "stringa = \"Quadernone\"\n",
    "for i in  range(len(stringa)):\n",
    "    parola = stringa[::-1]\n",
    "print(parola)"
   ]
  },
  {
   "cell_type": "markdown",
   "id": "920372d5",
   "metadata": {},
   "source": [
    "### ES8"
   ]
  },
  {
   "cell_type": "code",
   "execution_count": 9,
   "id": "b2bc8dc7",
   "metadata": {},
   "outputs": [
    {
     "name": "stdout",
     "output_type": "stream",
     "text": [
      "La?agna\n"
     ]
    }
   ],
   "source": [
    "stringa = \"Lavagna\"\n",
    "stringa = stringa[:2] + '?' + stringa[3:]\n",
    "print(stringa)"
   ]
  },
  {
   "cell_type": "markdown",
   "id": "2f3bb3b2",
   "metadata": {},
   "source": [
    "### ES9"
   ]
  },
  {
   "cell_type": "code",
   "execution_count": 10,
   "id": "fe3edae2",
   "metadata": {},
   "outputs": [
    {
     "name": "stdout",
     "output_type": "stream",
     "text": [
      "3.0\n"
     ]
    }
   ],
   "source": [
    "import math\n",
    "punto1 = (1, 4)\n",
    "punto2 = (1,1)\n",
    "x1, y1 = punto1\n",
    "x2, y2 = punto2\n",
    "\n",
    "if(x1 > x2):\n",
    "    distx = x1 -x2\n",
    "else:\n",
    "     distx = x2 -x1\n",
    "\n",
    "if(y1 > y2):\n",
    "    disty = y1 - y2\n",
    "else:\n",
    "     disty =y2 - y1\n",
    "\n",
    "distanza = math.sqrt(distx**2 + disty**2)\n",
    "print(distanza)"
   ]
  },
  {
   "cell_type": "markdown",
   "id": "5d790f5d",
   "metadata": {},
   "source": [
    "### ES10"
   ]
  },
  {
   "cell_type": "code",
   "execution_count": 11,
   "id": "a4620397",
   "metadata": {},
   "outputs": [
    {
     "name": "stdout",
     "output_type": "stream",
     "text": [
      "[3, 4, 6, 7, 2, 10]\n"
     ]
    }
   ],
   "source": [
    "lista_voti = [3, 4, 6, 7, 2, 10]\n",
    "print(lista_voti)"
   ]
  },
  {
   "cell_type": "code",
   "execution_count": 12,
   "id": "de682907",
   "metadata": {},
   "outputs": [
    {
     "data": {
      "text/plain": [
       "[3, 4, 6, 10, 2, 10]"
      ]
     },
     "execution_count": 12,
     "metadata": {},
     "output_type": "execute_result"
    }
   ],
   "source": [
    "lista_voti[3] = 10 \n",
    "lista_voti"
   ]
  },
  {
   "cell_type": "code",
   "execution_count": 13,
   "id": "1572e217",
   "metadata": {},
   "outputs": [
    {
     "name": "stdout",
     "output_type": "stream",
     "text": [
      "[3, 4, 6]\n"
     ]
    }
   ],
   "source": [
    "print(lista_voti[:3])"
   ]
  },
  {
   "cell_type": "markdown",
   "id": "6dd1fa69",
   "metadata": {},
   "source": [
    "### ES11"
   ]
  },
  {
   "cell_type": "code",
   "execution_count": 14,
   "id": "8ed08a03",
   "metadata": {},
   "outputs": [
    {
     "name": "stdout",
     "output_type": "stream",
     "text": [
      "[0, 1, 2, 3, 4] [5, 6, 7, 8, 9]\n"
     ]
    }
   ],
   "source": [
    "x = list(range(0, 10))\n",
    "lista1 = x[:(len(x)//2)]\n",
    "lista2 = x[len(x)//2:]\n",
    "print(lista1, lista2)"
   ]
  },
  {
   "cell_type": "markdown",
   "id": "250245d3",
   "metadata": {},
   "source": [
    "### ES12"
   ]
  },
  {
   "cell_type": "code",
   "execution_count": 15,
   "id": "3dddc466",
   "metadata": {},
   "outputs": [
    {
     "name": "stdout",
     "output_type": "stream",
     "text": [
      "[0, 1, 2, 3, 4, 5, 6, 7]\n"
     ]
    }
   ],
   "source": [
    "a = [0, 1, 2, 3]\n",
    "b = [4, 5, 6, 7]\n",
    "print(a+b)"
   ]
  },
  {
   "cell_type": "code",
   "execution_count": 16,
   "id": "c62f7034",
   "metadata": {},
   "outputs": [
    {
     "data": {
      "text/plain": [
       "[0, 1, 2, 3, 4, 0, 1, 2, 3, 4, 0, 1, 2, 3, 4]"
      ]
     },
     "execution_count": 16,
     "metadata": {},
     "output_type": "execute_result"
    }
   ],
   "source": [
    "lista1*3"
   ]
  },
  {
   "cell_type": "markdown",
   "id": "3e95f81b",
   "metadata": {},
   "source": [
    "### ES13"
   ]
  },
  {
   "cell_type": "code",
   "execution_count": 17,
   "id": "d30a7985",
   "metadata": {},
   "outputs": [
    {
     "name": "stdout",
     "output_type": "stream",
     "text": [
      "3914755244\n"
     ]
    }
   ],
   "source": [
    "d = {\"Nicolò\":3914755244, \"Giacomo\":3355341503, \"Giovanni\":3316211379}\n",
    "print(d[\"Nicolò\"])"
   ]
  },
  {
   "cell_type": "code",
   "execution_count": 18,
   "id": "453736cc",
   "metadata": {},
   "outputs": [
    {
     "name": "stdout",
     "output_type": "stream",
     "text": [
      "{'Nicolò': 3914755244, 'Giacomo': 3355341503, 'Giovanni': 3316211379, 'Andrea': 421574407}\n"
     ]
    }
   ],
   "source": [
    "d[\"Andrea\"] = 421574407\n",
    "print(d)"
   ]
  },
  {
   "cell_type": "markdown",
   "id": "34fd3f16",
   "metadata": {},
   "source": [
    "### ES14"
   ]
  },
  {
   "cell_type": "code",
   "execution_count": 19,
   "id": "01386318",
   "metadata": {},
   "outputs": [
    {
     "name": "stdout",
     "output_type": "stream",
     "text": [
      "Inserisci il tuo nome: Giacomo\n",
      "omocaiG\n"
     ]
    }
   ],
   "source": [
    "nome3 = str(input(\"Inserisci il tuo nome: \"))\n",
    "nome4 = \"\"\n",
    "for i in range(1, len(nome3)):\n",
    "    nome4 += nome3[-i]\n",
    "nome4 += nome3[0]\n",
    "print(nome4)"
   ]
  },
  {
   "cell_type": "markdown",
   "id": "81e42e41",
   "metadata": {},
   "source": [
    "### ES15"
   ]
  },
  {
   "cell_type": "code",
   "execution_count": 20,
   "id": "d965225c",
   "metadata": {},
   "outputs": [
    {
     "name": "stdout",
     "output_type": "stream",
     "text": [
      "Inserisci il tuo nome: Giacomo\n",
      "G******\n"
     ]
    }
   ],
   "source": [
    "nome = str(input(\"Inserisci il tuo nome: \"))\n",
    "nome2 = nome[0]\n",
    "for i in range(1, len(nome)):\n",
    "    nome2 += '*'\n",
    "print(nome2)"
   ]
  },
  {
   "cell_type": "markdown",
   "id": "124be4b8",
   "metadata": {},
   "source": [
    "### ES16"
   ]
  },
  {
   "cell_type": "code",
   "execution_count": 21,
   "id": "d3fb81de",
   "metadata": {},
   "outputs": [
    {
     "name": "stdout",
     "output_type": "stream",
     "text": [
      "Inserisci il tuo nome: Giacomo\n",
      "['G', 'i', 'a', 'c', 'o', 'm', 'o']\n"
     ]
    }
   ],
   "source": [
    "nome = str(input(\"Inserisci il tuo nome: \"))\n",
    "caratteri = []\n",
    "for i in range(len(nome)):\n",
    "    caratteri.append(nome[i])\n",
    "print(caratteri)\n"
   ]
  },
  {
   "cell_type": "markdown",
   "id": "66eecd30",
   "metadata": {},
   "source": [
    "### ES17"
   ]
  },
  {
   "cell_type": "code",
   "execution_count": 22,
   "id": "07fe9f7f",
   "metadata": {},
   "outputs": [
    {
     "name": "stdout",
     "output_type": "stream",
     "text": [
      "Inserisci x1: 3\n",
      "Inserisci y1: 5\n",
      "Inserisci x2: 2\n",
      "Inserisci y2: 7\n",
      "2.23606797749979\n"
     ]
    }
   ],
   "source": [
    "import math\n",
    "x1 = int(input(\"Inserisci x1: \"))\n",
    "y1 = int(input(\"Inserisci y1: \"))\n",
    "x2 = int(input(\"Inserisci x2: \"))\n",
    "y2 = int(input(\"Inserisci y2: \"))\n",
    "\n",
    "if(x1 > x2):\n",
    "    distx = x1 -x2\n",
    "else:\n",
    "     distx = x2 -x1\n",
    "\n",
    "if(y1 > y2):\n",
    "    disty = y1 - y2\n",
    "else:\n",
    "     disty =y2 - y1\n",
    "\n",
    "distanza = math.sqrt(distx**2 + disty**2)\n",
    "print(distanza)"
   ]
  },
  {
   "cell_type": "markdown",
   "id": "5a481120",
   "metadata": {},
   "source": [
    "### ES18"
   ]
  },
  {
   "cell_type": "code",
   "execution_count": 23,
   "id": "79a1e26b",
   "metadata": {},
   "outputs": [
    {
     "name": "stdout",
     "output_type": "stream",
     "text": [
      "Inserisci il primo numero: 2\n",
      "inserisci il secondo numero: 4\n"
     ]
    },
    {
     "data": {
      "text/plain": [
       "[20, 36, -12, 4]"
      ]
     },
     "execution_count": 23,
     "metadata": {},
     "output_type": "execute_result"
    }
   ],
   "source": [
    "n1 = int(input(\"Inserisci il primo numero: \"))\n",
    "n2 = int(input(\"inserisci il secondo numero: \"))\n",
    "\n",
    "list = [n1**2 + n2**2, (n1+n2)**2, n1**2 - n2**2, (n1-n2)**2]\n",
    "list"
   ]
  },
  {
   "cell_type": "markdown",
   "id": "5d1bd11d",
   "metadata": {},
   "source": [
    "### ES19"
   ]
  },
  {
   "cell_type": "code",
   "execution_count": null,
   "id": "2684dbbb",
   "metadata": {},
   "outputs": [],
   "source": [
    "import math\n",
    "\n",
    "n1 = float(input(\"inserisci il primo numero: \"))\n",
    "n2 = float(input(\"Inerisci il secondo numero:  \"))\n",
    "\n",
    "d = {\"Matematica\", n1*n2/2, \"Geometrica\", math.sqrt(n1*n2)}\n",
    "d"
   ]
  },
  {
   "cell_type": "code",
   "execution_count": null,
   "id": "4493641b",
   "metadata": {},
   "outputs": [],
   "source": []
  }
 ],
 "metadata": {
  "kernelspec": {
   "display_name": "Python 3 (ipykernel)",
   "language": "python",
   "name": "python3"
  },
  "language_info": {
   "codemirror_mode": {
    "name": "ipython",
    "version": 3
   },
   "file_extension": ".py",
   "mimetype": "text/x-python",
   "name": "python",
   "nbconvert_exporter": "python",
   "pygments_lexer": "ipython3",
   "version": "3.11.4"
  }
 },
 "nbformat": 4,
 "nbformat_minor": 5
}
